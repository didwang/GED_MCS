{
 "cells": [
  {
   "cell_type": "code",
   "execution_count": 2,
   "id": "overall-paradise",
   "metadata": {},
   "outputs": [],
   "source": [
    "from rdkit import Chem\n",
    "from rdkit.Chem.Draw import IPythonConsole\n",
    "from rdkit.Chem import Atom, BondType\n",
    "\n",
    "import matplotlib.pyplot as plt\n",
    "import numpy as np\n",
    "import pandas as pd\n",
    "\n",
    "import utils_3 as utils\n"
   ]
  },
  {
   "cell_type": "markdown",
   "id": "7a190418",
   "metadata": {},
   "source": [
    "## initialize"
   ]
  },
  {
   "cell_type": "code",
   "execution_count": 3,
   "id": "f25cf954",
   "metadata": {},
   "outputs": [],
   "source": [
    "target_smiles = \"Cl[C@@H]1C[C@]([H])(C(C)(C)[C@]23C(C=CC=C4)=C4NC3=O)C2=C([N+]#[C-])[C@@]1(C=C)C\"\n"
   ]
  },
  {
   "cell_type": "code",
   "execution_count": 4,
   "id": "presidential-controversy",
   "metadata": {},
   "outputs": [],
   "source": [
    "target = Chem.MolToSmiles(Chem.MolFromSmiles(target_smiles))\n",
    "target = Chem.MolFromSmiles(target)\n",
    "Chem.Kekulize(target,clearAromaticFlags=True)"
   ]
  },
  {
   "cell_type": "code",
   "execution_count": 5,
   "id": "approximate-makeup",
   "metadata": {},
   "outputs": [],
   "source": [
    "target_atoms = [atm.GetAtomicNum() for atm in target.GetAtoms()]\n",
    "target_symbs = [atm.GetSymbol() for atm in target.GetAtoms()]"
   ]
  },
  {
   "cell_type": "code",
   "execution_count": 6,
   "id": "cc332f58",
   "metadata": {},
   "outputs": [],
   "source": [
    "target_atoms[1] = 14"
   ]
  },
  {
   "cell_type": "code",
   "execution_count": 7,
   "id": "scenic-plymouth",
   "metadata": {},
   "outputs": [],
   "source": [
    "amat = Chem.GetAdjacencyMatrix(target,useBO=True,force=True)\n",
    "amat_init = Chem.GetAdjacencyMatrix(target,useBO=True,force=True)"
   ]
  },
  {
   "cell_type": "code",
   "execution_count": 8,
   "id": "7301f57f",
   "metadata": {},
   "outputs": [
    {
     "data": {
      "image/png": "[encoded data removed]",
      "text/plain": [
       "<rdkit.Chem.rdchem.Mol at 0x7fd8784b0b80>"
      ]
     },
     "execution_count": 8,
     "metadata": {},
     "output_type": "execute_result"
    }
   ],
   "source": [
    "utils.mol_with_atom_index(target)"
   ]
  },
  {
   "cell_type": "code",
   "execution_count": 9,
   "id": "2a872bd7",
   "metadata": {},
   "outputs": [
    {
     "name": "stdout",
     "output_type": "stream",
     "text": [
      "1 [2]\n",
      "2 [1 3]\n",
      "3 [2 4 9]\n",
      "4 [ 3  5 16]\n",
      "5 [ 4  6 13]\n",
      "6 [5 7]\n",
      "7 [6 8 9]\n",
      "8 [7]\n",
      "9 [ 3  7 10 11]\n",
      "10 [9]\n",
      "11 [ 9 12]\n",
      "12 [11]\n",
      "13 [ 5 14 15 16]\n",
      "14 [13]\n",
      "15 [13]\n",
      "16 [ 4 13 17 25]\n",
      "17 [16 18 19]\n",
      "18 [17]\n",
      "19 [17 20]\n",
      "20 [19 21 25]\n",
      "21 [20 22]\n",
      "22 [21 23]\n",
      "23 [22 24]\n",
      "24 [23 25]\n",
      "25 [16 20 24]\n"
     ]
    }
   ],
   "source": [
    "for i_m,m in enumerate(amat_init):\n",
    "    print(i_m+1,np.where(m!=0)[0]+1)\n"
   ]
  },
  {
   "cell_type": "markdown",
   "id": "ae48d50a",
   "metadata": {},
   "source": [
    "### start"
   ]
  },
  {
   "cell_type": "code",
   "execution_count": 10,
   "id": "9a9d72bd",
   "metadata": {},
   "outputs": [
    {
     "name": "stdout",
     "output_type": "stream",
     "text": [
      "AddStereo\n",
      "RingContraction\n",
      "Oxidation\n",
      "Isonitrile\n",
      "RedAmination\n",
      "FriedelCrafts\n",
      "Indole\n",
      "end\n"
     ]
    },
    {
     "data": {
      "text/plain": [
       "[{'edits': ()},\n",
       " {'pad': 0,\n",
       "  'pad_elem': [],\n",
       "  'edits': [(9, 9, 1), (7, 7, 1), (5, 5, 1), (16, 16, 1)]},\n",
       " {'pad': 0,\n",
       "  'pad_elem': [],\n",
       "  'edits': [(13, 16, -1),\n",
       "   (13, 17, 1),\n",
       "   (17, 18, -2),\n",
       "   (17, 16, 1),\n",
       "   (16, 16, -1)]}]"
      ]
     },
     "execution_count": 10,
     "metadata": {},
     "output_type": "execute_result"
    }
   ],
   "source": [
    "changelogs = utils.make_changelogs(\"./edit_files/edits_welwitindolinone_baran.csv\")\n",
    "changelogs[:3]"
   ]
  },
  {
   "cell_type": "code",
   "execution_count": 11,
   "id": "65fcb228",
   "metadata": {},
   "outputs": [],
   "source": [
    "# check the changelogs here. usually the [1:] is because the first entry is blank.\n",
    "out_1,final_atoms_1 = utils.apply_changes(amat_init, target_atoms,changelogs[1:])"
   ]
  },
  {
   "cell_type": "code",
   "execution_count": 12,
   "id": "68da6e59",
   "metadata": {},
   "outputs": [
    {
     "name": "stdout",
     "output_type": "stream",
     "text": [
      "0\n",
      "C.C=CC1(C)C(=O)CC(C(=C)C)CC1Cl.O.[SiH4].c1ccc2[nH]ccc2c1\n",
      "1\n",
      "C.C=CC1(C)C(=O)C(c2c[nH]c3ccccc23)C(C(=C)C)CC1Cl.O.[SiH4]\n",
      "2\n",
      "C.C=CC1(C)C(=O)C2c3c([nH]c4ccccc34)C(C)(C)C2CC1Cl.O.[SiH4]\n",
      "3\n",
      "C.C=CC1(C)C(Cl)CC2C(c3c([nH]c4ccccc34)C2(C)C)C1[SiH3].O.O\n",
      "4\n",
      "C#[Si]C1C2c3c([nH]c4ccccc34)C(C)(C)C2CC(Cl)C1(C)C=C.O.O\n",
      "5\n",
      "C#[Si]C1=C2c3c([nH]c4ccccc34)C(C)(C)C2CC(Cl)C1(C)C=C.O.O\n",
      "6\n",
      "C#[Si]C1=C2C(CC(Cl)C1(C)C=C)C(C)(C)C21C(=O)Nc2ccccc21.O\n",
      "7\n",
      "C#[Si]C1=C2C(CC(Cl)C1(C)C=C)C(C)(C)C21C(=O)Nc2ccccc21.O\n"
     ]
    }
   ],
   "source": [
    "for i in range(len(out_1)):\n",
    "    print(i)\n",
    "    try:\n",
    "        m = utils.molFromAdjMat(final_atoms_1, out_1[i], sanitize=True)\n",
    "        Chem.SanitizeMol(m)\n",
    "        print(Chem.MolToSmiles(m))\n",
    "    except Chem.rdchem.AtomValenceException as e:\n",
    "        print(f\"Valence error in molecule {i}: {e}\")\n",
    "        # Handle the error, e.g., by adjusting the valence or skipping the molecule\n",
    "        continue"
   ]
  },
  {
   "cell_type": "code",
   "execution_count": 14,
   "id": "f91dd28d",
   "metadata": {},
   "outputs": [],
   "source": [
    "save_dict = {\"amats\":out_1[:-1],\"atoms\":final_atoms_1}\n",
    "np.savez(\"./matrices/welwitindolinone_baran\",**save_dict)"
   ]
  },
  {
   "cell_type": "code",
   "execution_count": null,
   "id": "ee2d3fac",
   "metadata": {},
   "outputs": [],
   "source": []
  }
 ],
 "metadata": {
  "kernelspec": {
   "display_name": "Python 3 (ipykernel)",
   "language": "python",
   "name": "python3"
  },
  "language_info": {
   "codemirror_mode": {
    "name": "ipython",
    "version": 3
   },
   "file_extension": ".py",
   "mimetype": "text/x-python",
   "name": "python",
   "nbconvert_exporter": "python",
   "pygments_lexer": "ipython3",
   "version": "3.9.7"
  }
 },
 "nbformat": 4,
 "nbformat_minor": 5
}
