{
 "cells": [
  {
   "cell_type": "code",
   "execution_count": 15,
   "id": "overall-paradise",
   "metadata": {},
   "outputs": [],
   "source": [
    "from rdkit import Chem\n",
    "from rdkit.Chem.Draw import IPythonConsole\n",
    "\n",
    "import numpy as np\n",
    "import pandas as pd\n",
    "\n",
    "import utils_3 as utils"
   ]
  },
  {
   "cell_type": "markdown",
   "id": "7a190418",
   "metadata": {},
   "source": [
    "## initialize"
   ]
  },
  {
   "cell_type": "markdown",
   "id": "176ef45d",
   "metadata": {},
   "source": [
    "create the mol with atom numbering for the target"
   ]
  },
  {
   "cell_type": "code",
   "execution_count": 16,
   "id": "presidential-controversy",
   "metadata": {},
   "outputs": [],
   "source": [
    "target_smiles = \"O=C([C@H]1C)O[C@@]2([H])[C@@]1([H])[C@]3([H])CCC(N3CCC2)=O\"\n",
    "target = Chem.MolFromSmiles(target_smiles)\n",
    "Chem.Kekulize(target,clearAromaticFlags=True)"
   ]
  },
  {
   "cell_type": "code",
   "execution_count": 17,
   "id": "approximate-makeup",
   "metadata": {},
   "outputs": [],
   "source": [
    "target_atoms = [atm.GetAtomicNum() for atm in target.GetAtoms()]\n",
    "target_symbs = [atm.GetSymbol() for atm in target.GetAtoms()]"
   ]
  },
  {
   "cell_type": "code",
   "execution_count": 18,
   "id": "scenic-plymouth",
   "metadata": {},
   "outputs": [],
   "source": [
    "amat = Chem.GetAdjacencyMatrix(target,useBO=True,force=True)\n",
    "amat_init = Chem.GetAdjacencyMatrix(target,useBO=True,force=True)"
   ]
  },
  {
   "cell_type": "code",
   "execution_count": 19,
   "id": "7301f57f",
   "metadata": {},
   "outputs": [
    {
     "data": {
      "image/png": "[encoded data removed]",
      "text/plain": [
       "<rdkit.Chem.rdchem.Mol at 0x7ff5591cf460>"
      ]
     },
     "execution_count": 19,
     "metadata": {},
     "output_type": "execute_result"
    }
   ],
   "source": [
    "utils.mol_with_atom_index(target)"
   ]
  },
  {
   "cell_type": "markdown",
   "id": "ae48d50a",
   "metadata": {},
   "source": [
    "### Synthia Predicted route"
   ]
  },
  {
   "cell_type": "markdown",
   "id": "aa78b58a",
   "metadata": {},
   "source": [
    "make the change-log from the csv input. \n",
    "Meant as an intemediate to generate adjacency matrices for all synthetic intermediates"
   ]
  },
  {
   "cell_type": "code",
   "execution_count": 20,
   "id": "9a9d72bd",
   "metadata": {},
   "outputs": [
    {
     "name": "stdout",
     "output_type": "stream",
     "text": [
      "addstereo\n",
      "ringClose\n",
      "BrAdd\n",
      "lactone\n",
      "lactam\n",
      "allylation\n",
      "mannich\n",
      "addition\n",
      "end\n"
     ]
    },
    {
     "data": {
      "text/plain": [
       "[{'edits': ()},\n",
       " {'pad': 0,\n",
       "  'pad_elem': [],\n",
       "  'edits': [(3, 3, 1), (6, 6, 1), (7, 7, 1), (8, 8, 1)]},\n",
       " {'pad': 1, 'pad_elem': [35], 'edits': [(12, 13, -1), (13, 17, 1)]}]"
      ]
     },
     "execution_count": 20,
     "metadata": {},
     "output_type": "execute_result"
    }
   ],
   "source": [
    "changelogs = utils.make_changelogs(\"./edit_files/edits_stemo_synthia_mannich.csv\")\n",
    "changelogs[:3]\n",
    "# check the changelogs here."
   ]
  },
  {
   "cell_type": "markdown",
   "id": "787eed85",
   "metadata": {},
   "source": [
    "generate matrices"
   ]
  },
  {
   "cell_type": "code",
   "execution_count": 21,
   "id": "65fcb228",
   "metadata": {},
   "outputs": [],
   "source": [
    "# usually the [1:] is because the first entry is blank.\n",
    "out_1,final_atoms_1 = utils.apply_changes(amat_init, target_atoms,changelogs[1:])"
   ]
  },
  {
   "cell_type": "markdown",
   "id": "25cd4657",
   "metadata": {},
   "source": [
    "this is for checking that the mol objects don't break valency rules"
   ]
  },
  {
   "cell_type": "code",
   "execution_count": 22,
   "id": "68da6e59",
   "metadata": {},
   "outputs": [
    {
     "name": "stdout",
     "output_type": "stream",
     "text": [
      "0\n",
      "Br.C.C=CC.C=CCC=O.CN.O.O=CCCC(=O)O\n",
      "1\n",
      "Br.C=CC.CC(CO)CC=O.CN.O=CCCC(=O)O\n",
      "2\n",
      "Br.C.C=CC.CC(CO)C(C=O)C(N)CCC(=O)O.O\n",
      "3\n",
      "Br.C.C=CCC(O)C(C(C)CO)C(N)CCC(=O)O.O\n",
      "4\n",
      "Br.C.C=CCC(O)C(C(C)CO)C1CCC(=O)N1.O.O\n",
      "5\n",
      "Br.C.C=CCC1OC(=O)C(C)C1C1CCC(=O)N1.O.O\n",
      "6\n",
      "C.CC1C(=O)OC(CCCBr)C1C1CCC(=O)N1.O.O\n",
      "7\n",
      "Br.C.CC1C(=O)OC2CCCN3C(=O)CCC3C21.O.O\n",
      "8\n",
      "Br.C.CC1C(=O)OC2CCCN3C(=O)CCC3C21.O.O\n"
     ]
    }
   ],
   "source": [
    "for i in range(len(out_1)):\n",
    "    print(i)\n",
    "    m = utils.molFromAdjMat(final_atoms_1,out_1[i],sanitize=False)\n",
    "    Chem.SanitizeMol(m)\n",
    "    print(Chem.MolToSmiles(m))"
   ]
  },
  {
   "cell_type": "markdown",
   "id": "068770bf",
   "metadata": {},
   "source": [
    "save matrices as npz file"
   ]
  },
  {
   "cell_type": "code",
   "execution_count": 23,
   "id": "f91dd28d",
   "metadata": {},
   "outputs": [],
   "source": [
    "save_dict = {\"amats\":out_1[:-1],\"atoms\":final_atoms_1}\n",
    "np.savez(\"./matrices/stemo_synthia_mannich\",**save_dict)"
   ]
  },
  {
   "cell_type": "markdown",
   "id": "3636f1eb",
   "metadata": {},
   "source": [
    "### Experimental First Generation Route"
   ]
  },
  {
   "cell_type": "markdown",
   "id": "20f178b6",
   "metadata": {},
   "source": [
    "these subsequent cells are doing the same thing to the other routes"
   ]
  },
  {
   "cell_type": "code",
   "execution_count": 24,
   "id": "bb8c1642",
   "metadata": {},
   "outputs": [
    {
     "name": "stdout",
     "output_type": "stream",
     "text": [
      "addstereo\n",
      "methylation\n",
      "ringclose\n",
      "deprotBro\n",
      "addOH\n",
      "lactam\n",
      "mannich\n",
      "end\n"
     ]
    },
    {
     "data": {
      "text/plain": [
       "[{'edits': ()},\n",
       " {'pad': 0,\n",
       "  'pad_elem': [],\n",
       "  'edits': [(3, 3, 1), (6, 6, 1), (7, 7, 1), (8, 8, 1)]},\n",
       " {'pad': 6,\n",
       "  'pad_elem': [35, 6, 8, 8, 8, 8],\n",
       "  'edits': [(3, 4, -1), (3, 3, -1)]}]"
      ]
     },
     "execution_count": 24,
     "metadata": {},
     "output_type": "execute_result"
    }
   ],
   "source": [
    "changelogs = utils.make_changelogs(\"./edit_files/edits_stemo_exp_mannich.csv\")\n",
    "changelogs[:3]"
   ]
  },
  {
   "cell_type": "code",
   "execution_count": 25,
   "id": "d6fa6776",
   "metadata": {},
   "outputs": [],
   "source": [
    "out_1,final_atoms_1 = utils.apply_changes(amat_init, target_atoms,changelogs[1:])"
   ]
  },
  {
   "cell_type": "code",
   "execution_count": 26,
   "id": "9765afd2",
   "metadata": {},
   "outputs": [
    {
     "name": "stdout",
     "output_type": "stream",
     "text": [
      "0\n",
      "Br.C.C=CC.CN.O.O=CCCC(=O)O.O=CCCC(=O)O\n",
      "1\n",
      "Br.C.C=CCC1OC(=O)CC1C(CCC(=O)O)NC.O.O.O\n",
      "2\n",
      "Br.C.C=CCC1OC(=O)CC1C1CCC(=O)N1C.O.O.O.O\n",
      "3\n",
      "Br.C.CN1C(=O)CCC1C1CC(=O)OC1CCCO.O.O.O\n",
      "4\n",
      "C.C.O.O.O.O.O=C1CCC(C2CC(=O)OC2CCCBr)N1\n",
      "5\n",
      "Br.C.C.O.O.O.O.O=C1CC2C(CCCN3C(=O)CCC23)O1\n",
      "6\n",
      "Br.C.CC1C(=O)OC2CCCN3C(=O)CCC3C21.O.O.O.O\n",
      "7\n",
      "Br.C.CC1C(=O)OC2CCCN3C(=O)CCC3C21.O.O.O.O\n"
     ]
    }
   ],
   "source": [
    "# this is for checking that the mol objects don't break valency rules\n",
    "for i in range( len(out_1)):\n",
    "    print(i)\n",
    "    m = utils.molFromAdjMat(final_atoms_1,out_1[i],sanitize=True)\n",
    "    Chem.SanitizeMol(m)\n",
    "    print(Chem.MolToSmiles(m))"
   ]
  },
  {
   "cell_type": "code",
   "execution_count": 27,
   "id": "bc11a85a",
   "metadata": {},
   "outputs": [],
   "source": [
    "save_dict = {\"amats\":out_1[:-1],\"atoms\":final_atoms_1}\n",
    "np.savez(\"./matrices/stemo_exp_mannich\",**save_dict)"
   ]
  },
  {
   "cell_type": "markdown",
   "id": "8337ce7a",
   "metadata": {},
   "source": [
    "### Experimental Second Generation Route"
   ]
  },
  {
   "cell_type": "code",
   "execution_count": 28,
   "id": "01d2bb4b",
   "metadata": {},
   "outputs": [
    {
     "name": "stdout",
     "output_type": "stream",
     "text": [
      "addstereo\n",
      "azidation\n",
      "addition\n",
      "schmidt\n",
      "end\n"
     ]
    },
    {
     "data": {
      "text/plain": [
       "[{'edits': ()},\n",
       " {'pad': 0,\n",
       "  'pad_elem': [],\n",
       "  'edits': [(3, 3, 1), (6, 6, 1), (7, 7, 1), (8, 8, 1)]},\n",
       " {'pad': 2,\n",
       "  'pad_elem': [7, 8],\n",
       "  'edits': [(11, 12, -1), (8, 12, -1), (11, 8, 1), (13, 12, -1), (13, 14, 1)]}]"
      ]
     },
     "execution_count": 28,
     "metadata": {},
     "output_type": "execute_result"
    }
   ],
   "source": [
    "changelogs = utils.make_changelogs(\"./edit_files/edits_stemo_exp_cyclobutanone.csv\")\n",
    "changelogs[:3]"
   ]
  },
  {
   "cell_type": "code",
   "execution_count": 29,
   "id": "6d5d0185",
   "metadata": {},
   "outputs": [],
   "source": [
    "# check the changelogs here. usually the [1:] is because the first entry is blank.\n",
    "out_1,final_atoms_1 = utils.apply_changes(amat_init, target_atoms,changelogs[1:])"
   ]
  },
  {
   "cell_type": "code",
   "execution_count": 30,
   "id": "b50ae311",
   "metadata": {},
   "outputs": [
    {
     "name": "stdout",
     "output_type": "stream",
     "text": [
      "0\n",
      "C.C=CC.N.N=C1CCC1.O.O=C1C=CC(O)O1\n",
      "1\n",
      "C.C=CCC1C=CC(=O)O1.N.N=C1CCC1.O.O\n",
      "2\n",
      "C=CCC1OC(=O)C(C)C1C1CCC1=O.N.N.O\n",
      "3\n",
      "CC1C(=O)OC2CCCN3C(=O)CCC3C21.N.O\n",
      "4\n",
      "CC1C(=O)OC2CCCN3C(=O)CCC3C21.N.O\n"
     ]
    }
   ],
   "source": [
    "# this is for checking that the mol objects don't break valency rules\n",
    "for i in range( len(out_1)):\n",
    "    print(i)\n",
    "    m = utils.molFromAdjMat(final_atoms_1,out_1[i],sanitize=True)\n",
    "    Chem.SanitizeMol(m)\n",
    "    print(Chem.MolToSmiles(m))"
   ]
  },
  {
   "cell_type": "code",
   "execution_count": 31,
   "id": "18b9c39b",
   "metadata": {},
   "outputs": [],
   "source": [
    "save_dict = {\"amats\":out_1[:-1],\"atoms\":final_atoms_1}\n",
    "np.savez(\"./matrices/stemo_exp_schmidt\",**save_dict)"
   ]
  }
 ],
 "metadata": {
  "kernelspec": {
   "display_name": "Python 3 (ipykernel)",
   "language": "python",
   "name": "python3"
  },
  "language_info": {
   "codemirror_mode": {
    "name": "ipython",
    "version": 3
   },
   "file_extension": ".py",
   "mimetype": "text/x-python",
   "name": "python",
   "nbconvert_exporter": "python",
   "pygments_lexer": "ipython3",
   "version": "3.9.7"
  }
 },
 "nbformat": 4,
 "nbformat_minor": 5
}
